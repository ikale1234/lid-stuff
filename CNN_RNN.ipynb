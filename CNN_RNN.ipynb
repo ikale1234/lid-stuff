{
 "cells": [
  {
   "cell_type": "code",
   "execution_count": 1,
   "id": "c8ed1ea6-6f23-4bc6-8c65-921cbae1f79f",
   "metadata": {},
   "outputs": [],
   "source": [
    "import numpy as np\n",
    "import pandas as pd\n",
    "from tensorflow.keras.models import Sequential\n",
    "from tensorflow.keras.layers import Input, LSTM, RepeatVector, Embedding, TimeDistributed, Dense, Dropout, Conv1D, GRU, BatchNormalization\n",
    "from tensorflow.keras.preprocessing.text import Tokenizer\n",
    "from tensorflow.keras.preprocessing.sequence import pad_sequences\n",
    "from sklearn.model_selection import train_test_split\n",
    "from sklearn.preprocessing import LabelEncoder, OneHotEncoder\n",
    "from tensorflow.keras.utils import to_categorical\n",
    "from tensorflow.keras.callbacks import EarlyStopping\n",
    "from tensorflow.keras import backend as K\n",
    "from sklearn.metrics import classification_report, confusion_matrix\n",
    "import ast"
   ]
  },
  {
   "cell_type": "code",
   "execution_count": 13,
   "id": "f12e7b29-5c22-4324-98ef-4041960f6156",
   "metadata": {},
   "outputs": [],
   "source": [
    "df2 = pd.read_csv('CVE-2012-2122.csv')\n",
    "attack = []\n",
    "normal = []\n",
    "for i in range(len(df2)):\n",
    "    calls = ast.literal_eval(df2.iloc[i]['syscalls'])\n",
    "    check = df2.iloc[i]['is_exploit']\n",
    "    \n",
    "    temp_list = []\n",
    "    for j in range(len(calls)):\n",
    "        temp_list.append(calls[j]['name'])\n",
    "    if check:\n",
    "        attack.append(temp_list)\n",
    "    else:\n",
    "        normal.append(temp_list)\n",
    "\n",
    "both_lists = attack + normal\n",
    "tokenizer = Tokenizer()\n",
    "tokenizer.fit_on_texts(both_lists)\n",
    "word_index = tokenizer.word_index\n",
    "\n",
    "X_train = normal[:850]\n",
    "X_val = normal[850:1050]\n",
    "X_test = normal[1050:] + attack\n",
    "tokened_Xtrain = tokenizer.texts_to_sequences(X_train)\n",
    "tokened_Xtest = tokenizer.texts_to_sequences(X_test)\n",
    "tokened_Xval = tokenizer.texts_to_sequences(X_val)\n",
    "max_length = 7500\n",
    "X_train_padded = pad_sequences(tokened_Xtrain, maxlen=max_length, padding='post')\n",
    "X_test_padded = pad_sequences(tokened_Xtest, maxlen=max_length, padding='post')\n",
    "X_val_padded = pad_sequences(tokened_Xval, maxlen=max_length, padding='post')\n",
    "\n",
    "K = len(word_index) + 1"
   ]
  },
  {
   "cell_type": "code",
   "execution_count": 3,
   "id": "b90911b8-b09a-43e6-afb1-d562328e2e44",
   "metadata": {},
   "outputs": [],
   "source": [
    "model = Sequential()\n",
    "model.add(Embedding(input_dim=K, output_dim=400, input_length=None))\n",
    "model.add(Conv1D(filters=16, kernel_size=3, activation=\"relu\", padding=\"causal\"))\n",
    "model.add(Conv1D(filters=32, kernel_size=3, activation=\"relu\", padding=\"causal\"))\n",
    "model.add(Conv1D(filters=64, kernel_size=3, activation=\"relu\", padding=\"causal\"))\n",
    "model.add(Conv1D(filters=128, kernel_size=3, activation=\"relu\", padding=\"causal\"))\n",
    "model.add(Conv1D(filters=256, kernel_size=3, activation=\"relu\", padding=\"causal\"))\n",
    "model.add(Conv1D(filters=512, kernel_size=3, activation=\"relu\", padding=\"causal\"))\n",
    "model.add(Conv1D(filters=1024, kernel_size=3, activation=\"relu\", padding=\"causal\"))\n",
    "model.add(BatchNormalization())\n",
    "model.add(GRU(500, return_sequences=True))\n",
    "model.add(Dropout(0.5))\n",
    "model.add(Dense(K, activation='softmax'))\n",
    "\n",
    "early_stopping = EarlyStopping(\n",
    "    monitor='val_loss',  # Metric to monitor\n",
    "    patience=3,          # Number of epochs with no improvement after which training will be stopped\n",
    "    restore_best_weights=True  # Restore the model weights from the epoch with the best value of the monitored metric\n",
    ")\n",
    "\n",
    "# Compile the model\n",
    "model.compile(optimizer='adam', loss='sparse_categorical_crossentropy', metrics=['sparse_categorical_crossentropy'])"
   ]
  },
  {
   "cell_type": "code",
   "execution_count": 16,
   "id": "8b90ea6d-f99c-4d16-bb7d-a531e254f5c2",
   "metadata": {},
   "outputs": [],
   "source": [
    "def add_train_labels(x):\n",
    "        return x[:-1], x[1:]\n",
    "K = len(word_index) + 1\n",
    "train = [add_train_labels(seq) for seq in X_train_padded]\n",
    "val = [add_train_labels(seq) for seq in X_val_padded]\n",
    "\n",
    "train_inputs, train_targets = zip(*train)\n",
    "val_inputs, val_targets = zip(*val)\n",
    "\n",
    "# Convert to numpy arrays\n",
    "train_inputs = np.array(train_inputs)\n",
    "train_targets = np.array(train_targets)\n",
    "val_inputs = np.array(val_inputs)\n",
    "val_targets = np.array(val_targets)"
   ]
  },
  {
   "cell_type": "code",
   "execution_count": 17,
   "id": "d1dbc35d-245e-48ac-b169-d54d3b36d0e5",
   "metadata": {},
   "outputs": [
    {
     "name": "stdout",
     "output_type": "stream",
     "text": [
      "Epoch 1/150\n",
      "27/27 - 795s - loss: 0.1202 - sparse_categorical_crossentropy: 0.1202 - val_loss: 0.1283 - val_sparse_categorical_crossentropy: 0.1283 - 795s/epoch - 29s/step\n",
      "Epoch 2/150\n",
      "27/27 - 810s - loss: 0.1195 - sparse_categorical_crossentropy: 0.1195 - val_loss: 0.1289 - val_sparse_categorical_crossentropy: 0.1289 - 810s/epoch - 30s/step\n",
      "Epoch 3/150\n",
      "27/27 - 812s - loss: 0.1197 - sparse_categorical_crossentropy: 0.1197 - val_loss: 0.1290 - val_sparse_categorical_crossentropy: 0.1290 - 812s/epoch - 30s/step\n",
      "Epoch 4/150\n",
      "27/27 - 812s - loss: 0.1188 - sparse_categorical_crossentropy: 0.1188 - val_loss: 0.1278 - val_sparse_categorical_crossentropy: 0.1278 - 812s/epoch - 30s/step\n",
      "Epoch 5/150\n",
      "27/27 - 822s - loss: 0.1177 - sparse_categorical_crossentropy: 0.1177 - val_loss: 0.1277 - val_sparse_categorical_crossentropy: 0.1277 - 822s/epoch - 30s/step\n",
      "Epoch 6/150\n",
      "27/27 - 811s - loss: 0.1174 - sparse_categorical_crossentropy: 0.1174 - val_loss: 0.1280 - val_sparse_categorical_crossentropy: 0.1280 - 811s/epoch - 30s/step\n",
      "Epoch 7/150\n",
      "27/27 - 814s - loss: 0.1172 - sparse_categorical_crossentropy: 0.1172 - val_loss: 0.1295 - val_sparse_categorical_crossentropy: 0.1295 - 814s/epoch - 30s/step\n",
      "Epoch 8/150\n",
      "27/27 - 819s - loss: 0.1177 - sparse_categorical_crossentropy: 0.1177 - val_loss: 0.1281 - val_sparse_categorical_crossentropy: 0.1281 - 819s/epoch - 30s/step\n"
     ]
    },
    {
     "data": {
      "text/plain": [
       "<keras.src.callbacks.History at 0x3399afaf0>"
      ]
     },
     "execution_count": 17,
     "metadata": {},
     "output_type": "execute_result"
    }
   ],
   "source": [
    "model.fit(\n",
    "            train_inputs,\n",
    "            train_targets,\n",
    "            validation_data=(val_inputs, val_targets),\n",
    "            epochs=150,\n",
    "            verbose=2,\n",
    "            shuffle=True,\n",
    "            callbacks=[early_stopping],\n",
    "        )\n"
   ]
  },
  {
   "cell_type": "code",
   "execution_count": 18,
   "id": "246a2f80-bedd-4bb0-bd61-77304cd26fe9",
   "metadata": {},
   "outputs": [
    {
     "name": "stdout",
     "output_type": "stream",
     "text": [
      "7/7 [==============================] - 53s 8s/step\n",
      "825.7450561523438\n"
     ]
    }
   ],
   "source": [
    "val = X_val_padded\n",
    "y_val = model.predict(val)\n",
    "sums_val = np.array([-np.log(pred.max(axis=-1)).sum(axis=-1) for pred in y_val])\n",
    "threshold = np.mean(sums_val) + 2*np.std(sums_val)\n",
    "print(threshold)"
   ]
  },
  {
   "cell_type": "code",
   "execution_count": 19,
   "id": "54d7e395-6c12-47f7-a7d1-07ef27f215e6",
   "metadata": {},
   "outputs": [
    {
     "name": "stdout",
     "output_type": "stream",
     "text": [
      "345\n",
      "11/11 [==============================] - 87s 8s/step\n"
     ]
    }
   ],
   "source": [
    "test = X_test_padded\n",
    "print(len(test))\n",
    "y_pred = model.predict(test)\n",
    "sums = np.array([-np.log(pred.max(axis=-1)).sum(axis=-1) for pred in y_pred])"
   ]
  },
  {
   "cell_type": "code",
   "execution_count": 22,
   "id": "82ad9db1-ed13-4d49-bc00-07d3906be1dd",
   "metadata": {},
   "outputs": [
    {
     "name": "stdout",
     "output_type": "stream",
     "text": [
      "285\n",
      "345\n",
      "0.8260869565217391\n"
     ]
    }
   ],
   "source": [
    "threshold = np.mean(sums_val) + np.std(sums_val)\n",
    "successes = 0\n",
    "total = len(test)\n",
    "pred = []\n",
    "norms_len = total - len(attack)\n",
    "testY = []\n",
    "for i in range(total):\n",
    "    if sums[i] <= threshold:\n",
    "        pred.append(0)\n",
    "    else:\n",
    "        pred.append(1)\n",
    "    if i < norms_len:\n",
    "        testY.append(0)\n",
    "        if sums[i] <= threshold:\n",
    "            successes += 1\n",
    "    else:\n",
    "        testY.append(1)\n",
    "        if sums[i] > threshold:\n",
    "            successes += 1\n",
    "print(successes)\n",
    "print(total)\n",
    "print(successes / total)"
   ]
  },
  {
   "cell_type": "code",
   "execution_count": 11,
   "id": "de75b99c-5f38-465c-a338-0acd9f596757",
   "metadata": {},
   "outputs": [],
   "source": [
    "from sklearn.metrics import accuracy_score, precision_score, recall_score, f1_score"
   ]
  },
  {
   "cell_type": "code",
   "execution_count": 23,
   "id": "e352f33f-2875-44c9-9ecc-d0a7b565c37d",
   "metadata": {},
   "outputs": [
    {
     "name": "stdout",
     "output_type": "stream",
     "text": [
      "Precision:  0.825\n",
      "Recall:  0.868421052631579\n",
      "f1:  0.8461538461538461\n"
     ]
    }
   ],
   "source": [
    "precision = precision_score(testY, pred, pos_label=0)\n",
    "recall = recall_score(testY, pred, pos_label=0)\n",
    "f1 = f1_score(testY, pred, pos_label=0)\n",
    "print(\"Precision: \",precision)\n",
    "print(\"Recall: \",recall)\n",
    "print(\"f1: \",f1)"
   ]
  },
  {
   "cell_type": "code",
   "execution_count": 2,
   "id": "2280bf15-491b-4a5d-a827-14f22ac787cc",
   "metadata": {},
   "outputs": [],
   "source": [
    "df = pd.read_csv('Bruteforce_CWE-307.csv')\n",
    "attack = []\n",
    "normal = []\n",
    "for i in range(len(df)):\n",
    "    calls = ast.literal_eval(df.iloc[i]['syscalls'])\n",
    "    check = df.iloc[i]['is_exploit']\n",
    "    \n",
    "    temp_list = []\n",
    "    for j in range(len(calls)):\n",
    "        temp_list.append(calls[j]['name'])\n",
    "    if check:\n",
    "        attack.append(temp_list)\n",
    "    else:\n",
    "        normal.append(temp_list)\n",
    "\n",
    "both_lists = attack + normal\n",
    "tokenizer = Tokenizer()\n",
    "tokenizer.fit_on_texts(both_lists)\n",
    "word_index = tokenizer.word_index\n",
    "\n",
    "X_train = normal[:500]\n",
    "X_val = normal[500:750]\n",
    "X_test = normal[750:] + attack\n",
    "tokened_Xtrain = tokenizer.texts_to_sequences(X_train)\n",
    "tokened_Xtest = tokenizer.texts_to_sequences(X_test)\n",
    "tokened_Xval = tokenizer.texts_to_sequences(X_val)\n",
    "max_length = 5000\n",
    "X_train_padded = pad_sequences(tokened_Xtrain, maxlen=max_length, padding='post')\n",
    "X_test_padded = pad_sequences(tokened_Xtest, maxlen=max_length, padding='post')\n",
    "X_val_padded = pad_sequences(tokened_Xval, maxlen=max_length, padding='post')\n",
    "\n",
    "K = len(word_index) + 1"
   ]
  },
  {
   "cell_type": "code",
   "execution_count": 7,
   "id": "56a426fd-48e1-4c91-ba6e-2bdc76e8865c",
   "metadata": {},
   "outputs": [
    {
     "name": "stdout",
     "output_type": "stream",
     "text": [
      "Epoch 1/100\n",
      "16/16 - 333s - loss: 2.5387 - sparse_categorical_crossentropy: 2.5387 - val_loss: 3.4459 - val_sparse_categorical_crossentropy: 3.4459 - 333s/epoch - 21s/step\n",
      "Epoch 2/100\n",
      "16/16 - 319s - loss: 1.2582 - sparse_categorical_crossentropy: 1.2582 - val_loss: 3.2569 - val_sparse_categorical_crossentropy: 3.2569 - 319s/epoch - 20s/step\n",
      "Epoch 3/100\n",
      "16/16 - 318s - loss: 0.8021 - sparse_categorical_crossentropy: 0.8021 - val_loss: 3.0178 - val_sparse_categorical_crossentropy: 3.0178 - 318s/epoch - 20s/step\n",
      "Epoch 4/100\n",
      "16/16 - 320s - loss: 0.5837 - sparse_categorical_crossentropy: 0.5837 - val_loss: 2.9821 - val_sparse_categorical_crossentropy: 2.9821 - 320s/epoch - 20s/step\n",
      "Epoch 5/100\n",
      "16/16 - 320s - loss: 0.4987 - sparse_categorical_crossentropy: 0.4987 - val_loss: 2.9729 - val_sparse_categorical_crossentropy: 2.9729 - 320s/epoch - 20s/step\n",
      "Epoch 6/100\n",
      "16/16 - 318s - loss: 0.4330 - sparse_categorical_crossentropy: 0.4330 - val_loss: 3.0163 - val_sparse_categorical_crossentropy: 3.0163 - 318s/epoch - 20s/step\n",
      "Epoch 7/100\n",
      "16/16 - 311s - loss: 0.3764 - sparse_categorical_crossentropy: 0.3764 - val_loss: 3.0543 - val_sparse_categorical_crossentropy: 3.0543 - 311s/epoch - 19s/step\n",
      "Epoch 8/100\n",
      "16/16 - 317s - loss: 0.3454 - sparse_categorical_crossentropy: 0.3454 - val_loss: 3.0983 - val_sparse_categorical_crossentropy: 3.0983 - 317s/epoch - 20s/step\n"
     ]
    },
    {
     "data": {
      "text/plain": [
       "<keras.src.callbacks.History at 0x2f47a3a60>"
      ]
     },
     "execution_count": 7,
     "metadata": {},
     "output_type": "execute_result"
    }
   ],
   "source": [
    "model.fit(\n",
    "            train_inputs,\n",
    "            train_targets,\n",
    "            validation_data=(val_inputs, val_targets),\n",
    "            epochs=100,\n",
    "            verbose=2,\n",
    "            shuffle=True,\n",
    "            callbacks=[early_stopping],\n",
    "        )"
   ]
  },
  {
   "cell_type": "code",
   "execution_count": 8,
   "id": "624223fd-b3f6-485f-aa70-59e63fc60763",
   "metadata": {},
   "outputs": [
    {
     "name": "stdout",
     "output_type": "stream",
     "text": [
      "994 98\n"
     ]
    }
   ],
   "source": [
    "print(len(normal), len(attack))\n"
   ]
  },
  {
   "cell_type": "code",
   "execution_count": 9,
   "id": "2ed5f178-bbae-44c1-a3e7-1114c5923758",
   "metadata": {},
   "outputs": [
    {
     "name": "stdout",
     "output_type": "stream",
     "text": [
      "8/8 [==============================] - 44s 6s/step\n",
      "4857.457183837891\n"
     ]
    }
   ],
   "source": [
    "val = X_val_padded\n",
    "y_val = model.predict(val)\n",
    "sums_val = np.array([-np.log(pred.max(axis=-1)).sum(axis=-1) for pred in y_val])\n",
    "threshold = np.mean(sums_val) + 2*np.std(sums_val)\n",
    "print(threshold)"
   ]
  },
  {
   "cell_type": "code",
   "execution_count": 11,
   "id": "8ac728ac-5460-4a08-a45b-3c480a227c5a",
   "metadata": {},
   "outputs": [
    {
     "name": "stdout",
     "output_type": "stream",
     "text": [
      "342\n",
      "11/11 [==============================] - 59s 5s/step\n"
     ]
    }
   ],
   "source": [
    "test = X_test_padded\n",
    "print(len(test))\n",
    "y_pred = model.predict(test)\n",
    "sums = np.array([-np.log(pred.max(axis=-1)).sum(axis=-1) for pred in y_pred])"
   ]
  },
  {
   "cell_type": "code",
   "execution_count": 17,
   "id": "ffc8952e-40c1-41d7-b79c-54e9ba628895",
   "metadata": {},
   "outputs": [
    {
     "name": "stdout",
     "output_type": "stream",
     "text": [
      "227\n",
      "342\n",
      "0.6637426900584795\n"
     ]
    }
   ],
   "source": [
    "threshold = np.mean(sums_val) + 2*np.std(sums_val)\n",
    "successes = 0\n",
    "total = len(test)\n",
    "avg_1 = 0\n",
    "avg_2 = 0\n",
    "norms_len = total - len(attack)\n",
    "for i in range(total):\n",
    "    if i < norms_len:\n",
    "        if sums[i] <= threshold:\n",
    "            successes += 1\n",
    "            avg_1 += sums[i]\n",
    "    else:\n",
    "        if sums[i] > threshold:\n",
    "            successes += 1\n",
    "            avg_2 += sums[i]\n",
    "avg_1 = avg_1/norms_len\n",
    "avg_2 = avg_2/len(attack)\n",
    "print(successes)\n",
    "print(total)\n",
    "print(successes / total)"
   ]
  },
  {
   "cell_type": "code",
   "execution_count": 10,
   "id": "32f99d30-af6d-4265-b771-8933e57ed146",
   "metadata": {},
   "outputs": [
    {
     "name": "stdout",
     "output_type": "stream",
     "text": [
      "[4552.3003 4540.8105 4583.8555 4409.601  4611.3086 4910.6797 4843.3643\n",
      " 4473.8755 4443.9985 4889.338  4402.541  4502.336  4415.4404 5031.5083\n",
      " 4281.996  4518.9287 4214.032  4441.5117 4470.049  4524.8076 4532.829\n",
      " 4519.027  4338.6094 4535.181  4732.416  4386.562  4368.0703 4682.0576\n",
      " 4487.8037 4411.709  4333.343  4536.8486 4555.843  4320.2383 4491.8906\n",
      " 4505.4526 4548.61   4722.8843 4413.823  4365.9844 4422.5557 4452.543\n",
      " 4304.526  5167.8047 4510.2466 5126.9287 4494.554  4474.2603 4374.2676\n",
      " 5179.496  4426.0234 4581.5977 4499.27   4446.5576 4425.83   4658.9814\n",
      " 4425.29   4412.532  4620.1484 4477.7217 4432.608  4334.0947 4392.8105\n",
      " 4776.123  4530.4297 4482.6455 4351.923  4367.523  4759.582  4444.2544\n",
      " 4346.2637 4371.7944 4527.904  4771.5566 4350.9775 4430.251  4295.73\n",
      " 4339.7764 4397.6006 4444.384  4343.5205 4659.679  4379.338  4476.6875\n",
      " 4943.079  4439.079  4583.384  4577.2217 4487.795  4372.707  4526.122\n",
      " 4421.695  4518.0156 4496.7153 4416.9785 4312.794  4317.863  4463.708\n",
      " 4446.796  4429.629  4330.04   4489.4146 4477.325  4570.935  4895.1533\n",
      " 4353.6846 4415.0273 4829.743  4404.6777 4370.074  4345.5596 4416.503\n",
      " 4375.3613 4433.581  4447.9473 4367.0366 4511.451  4472.2437 4477.0166\n",
      " 4540.201  4374.8457 4507.4595 4365.6973 4698.16   4323.6465 4589.668\n",
      " 4897.1562 4643.0483 4640.7656 4542.046  4858.6035 4266.965  4528.424\n",
      " 4479.586  4310.6904 4404.978  4644.8193 4375.6724 4385.9243 4277.667\n",
      " 4420.297  4506.6436 4718.8584 4512.926  4309.0435 4568.008  4541.914\n",
      " 4316.324  4378.709  5048.692  4851.768  4622.9688 4425.431  4351.7314\n",
      " 4473.8345 4757.1113 4406.948  4449.038  4604.6064 4775.3325 4503.8276\n",
      " 4297.6265 4631.175  4472.674  4447.882  4334.1445 4445.601  4523.841\n",
      " 4639.8486 4481.9087 4514.378  4478.598  4811.865  4289.365  4455.201\n",
      " 4421.608  5203.669  4449.793  4353.9697 4458.589  4487.022  4309.009\n",
      " 4745.1353 4537.953  4477.752  4751.757  4249.6323 4443.9814 4318.4033\n",
      " 4466.457  4373.482  4562.0127 4431.101  4419.786  4575.79   4519.419\n",
      " 4555.837  4222.09   4400.951  4537.0234 4377.1445 4542.9873 4478.048\n",
      " 4909.127  4559.904  4468.2217 4573.417  4475.907  4335.1704 4458.1484\n",
      " 4452.8115 4541.2715 4854.2573 4445.327  4562.308  4442.387  4330.001\n",
      " 4340.034  4370.308  4531.754  4670.54   4634.842  4592.581  4357.6987\n",
      " 4600.939  4424.55   4485.0083 4532.206  4360.426  4426.394  4852.6265\n",
      " 4497.796  4243.45   4304.112  5011.7573 4369.612  4471.161  4457.337\n",
      " 4317.326  4635.9834 4473.7075 4514.91   4542.4375 4368.5    4294.479\n",
      " 4596.622  4389.211  4479.725  4662.5376 4321.9453]\n"
     ]
    }
   ],
   "source": [
    "print(sums_val)"
   ]
  },
  {
   "cell_type": "code",
   "execution_count": 13,
   "id": "1cdbd00d-507f-48d5-a393-cd3242ebe610",
   "metadata": {},
   "outputs": [
    {
     "name": "stdout",
     "output_type": "stream",
     "text": [
      "[4403.8154 4373.2617 5030.111  4821.6875 4480.207  4462.8506 4430.759\n",
      " 4903.5947 4605.374  4391.5586 4518.998  4477.3296 4418.7295 4426.9805\n",
      " 4440.826  4587.745  4496.8716 4769.081  4521.155  4347.325  5061.684\n",
      " 4492.9014 4573.8604 4461.3315 4354.8325 4531.6543 4681.5166 4800.636\n",
      " 4522.883  4448.2764 4510.116  4657.1797 4288.5605 4762.1426 4531.254\n",
      " 5001.0996 4449.649  4513.418  4304.667  4430.7183 5285.005  4457.8584\n",
      " 4485.1313 4503.919  4328.8647 4280.329  4695.3066 4574.0884 4325.503\n",
      " 4413.0386 4561.5127 4452.7427 4527.6943 4407.958  4564.4927 4402.002\n",
      " 5230.3613 4531.5933 4349.3896 4356.1846 4553.386  4524.814  4503.7344\n",
      " 4638.745  4295.269  4802.258  5032.3438 4527.4453 4341.2456 4228.108\n",
      " 4681.084  4355.909  4566.3623 4486.284  4533.4453 5058.3096 4357.0566\n",
      " 4525.1904 4436.054  4330.2393 4330.739  4355.9404 5062.9404 4354.3076\n",
      " 4704.7383 4483.291  4412.95   4575.141  4330.658  4327.959  4429.0713\n",
      " 4446.8496 4398.3794 4543.5635 4382.04   4551.927  4725.2275 4434.4453\n",
      " 4633.707  4377.844  4356.675  4273.59   4262.861  4374.4707 4636.1143\n",
      " 4366.97   4281.078  4728.26   5075.7837 4501.6753 4446.7197 4562.1895\n",
      " 4536.152  4526.676  4673.664  4494.8115 4498.8384 4422.8213 4415.2314\n",
      " 4792.2344 4437.339  4460.2593 4498.9185 4384.257  4435.1465 4376.591\n",
      " 4573.501  4460.3086 4481.2817 4481.9443 4442.104  4492.2627 4412.3936\n",
      " 4429.6694 4421.2827 4529.801  4427.7773 4449.8047 4569.032  4560.2266\n",
      " 4482.6396 4516.9214 4245.0986 4431.802  4353.3184 4298.56   4499.9404\n",
      " 4471.1963 4469.96   4702.675  4572.087  4217.9814 4389.1265 5108.6445\n",
      " 4659.618  4258.9473 4272.0234 4813.3643 4472.153  4951.7764 4548.6763\n",
      " 4285.0635 4817.6875 4397.8594 4343.381  4500.1714 4431.827  4467.6924\n",
      " 4384.2188 4384.1484 4349.2803 4489.827  4627.8257 4733.209  4550.4736\n",
      " 4419.3574 4477.6235 4555.962  4455.757  4390.5605 4435.3135 4450.9824\n",
      " 4567.5527 4583.5986 4856.3086 4459.1055 4607.3213 4522.547  4352.5723\n",
      " 4552.701  4525.214  4597.304  4443.9316 4615.0234 4637.336  4487.198\n",
      " 4388.5625 5163.377  4734.966  4888.089  4633.1094 4518.2085 4436.469\n",
      " 4694.7754 4392.792  4411.4883 4502.0684 4382.752  4383.32   4510.619\n",
      " 4390.448  4476.007  5063.2207 4532.7827 4817.5273 4588.759  4476.0737\n",
      " 4492.0674 4338.893  4661.3774 4563.426  4436.384  4592.425  4896.813\n",
      " 4381.4463 4288.4434 4416.0654 4539.004  4517.3477 4679.374  4459.849\n",
      " 5155.703  4414.4834 4469.8945 4346.415  4455.363  4523.4043 4514.397\n",
      " 4359.209  4408.119  4427.969  4441.2427 4484.5605 4477.3325 4272.8867\n",
      " 4258.579  4311.3115 4305.1807 4278.426  4410.1343 4429.8535 4299.2666\n",
      " 4385.75   4263.142  4320.1484 4475.704  4274.0967 4256.9634 4276.1367\n",
      " 4260.005  4269.378  4292.8457 4261.5107 4289.6787 4273.1914 4296.909\n",
      " 4311.0522 4283.585  4272.497  4482.561  4329.3706 4265.3247 4363.3413\n",
      " 4269.915  4367.9624 4369.083  4303.038  4273.7817 4283.05   4270.8965\n",
      " 4273.5166 4233.8066 4284.8315 4392.828  4288.077  4298.2715 4272.1514\n",
      " 4271.8115 4252.745  4358.747  4266.0557 4570.8984 4263.7153 4265.978\n",
      " 4478.134  4290.2754 4261.6406 4283.9536 4512.907  4288.8213 4307.808\n",
      " 4272.639  4278.4214 4291.1646 4280.757  4271.9346 4497.326  4268.628\n",
      " 4325.63   4286.6934 4274.31   4285.835  4314.92   4602.508  4303.623\n",
      " 4381.0684 4291.803  4271.671  4268.095  4325.954  4284.8115 4342.885\n",
      " 4424.9106 4350.471  4357.009  4285.6533 4300.841  4366.398  4290.509\n",
      " 4282.405  4277.7056 4256.6226 4280.117  4278.618  4326.036  4476.9644\n",
      " 4282.3833 4272.823  4277.9927 4342.8945 4389.408  4278.375 ]\n"
     ]
    }
   ],
   "source": [
    "print(sums)"
   ]
  },
  {
   "cell_type": "code",
   "execution_count": null,
   "id": "4ee880ee-75a3-47bf-ae69-5c922f33399a",
   "metadata": {},
   "outputs": [],
   "source": []
  }
 ],
 "metadata": {
  "kernelspec": {
   "display_name": "Python 3 (ipykernel)",
   "language": "python",
   "name": "python3"
  },
  "language_info": {
   "codemirror_mode": {
    "name": "ipython",
    "version": 3
   },
   "file_extension": ".py",
   "mimetype": "text/x-python",
   "name": "python",
   "nbconvert_exporter": "python",
   "pygments_lexer": "ipython3",
   "version": "3.10.5"
  }
 },
 "nbformat": 4,
 "nbformat_minor": 5
}
