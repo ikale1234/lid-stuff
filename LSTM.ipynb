{
 "cells": [
  {
   "cell_type": "code",
   "execution_count": 1,
   "id": "382a58ab-7c0e-47ea-9a18-1759be546e2b",
   "metadata": {},
   "outputs": [],
   "source": [
    "import numpy as np\n",
    "import pandas as pd\n",
    "from tensorflow.keras.models import Sequential\n",
    "from tensorflow.keras.layers import Input, LSTM, RepeatVector, Embedding, TimeDistributed, Dense, Dropout\n",
    "from tensorflow.keras.preprocessing.text import Tokenizer\n",
    "from tensorflow.keras.preprocessing.sequence import pad_sequences\n",
    "from sklearn.model_selection import train_test_split\n",
    "from sklearn.preprocessing import LabelEncoder, OneHotEncoder\n",
    "from tensorflow.keras.utils import to_categorical\n",
    "from tensorflow.keras.callbacks import EarlyStopping\n",
    "from tensorflow.keras import backend as K\n",
    "from sklearn.metrics import classification_report, confusion_matrix\n",
    "import ast"
   ]
  },
  {
   "cell_type": "code",
   "execution_count": 2,
   "id": "2e1da433-e30c-457c-b86c-6c9b27051146",
   "metadata": {},
   "outputs": [
    {
     "name": "stdout",
     "output_type": "stream",
     "text": [
      "1092\n"
     ]
    }
   ],
   "source": [
    "df = pd.read_csv('Bruteforce_CWE-307.csv')\n",
    "b_syscalls = []\n",
    "print(len(df['syscalls']))"
   ]
  },
  {
   "cell_type": "code",
   "execution_count": 3,
   "id": "7c66c688-662c-44ff-97b5-d4fa139d008a",
   "metadata": {},
   "outputs": [],
   "source": [
    "attack = []\n",
    "normal = []\n",
    "for i in range(len(df)):\n",
    "    calls = ast.literal_eval(df.iloc[i]['syscalls'])\n",
    "    check = df.iloc[i]['is_exploit']\n",
    "    \n",
    "    temp_list = []\n",
    "    for j in range(len(calls)):\n",
    "        temp_list.append(calls[j]['name'])\n",
    "    if check:\n",
    "        attack.append(temp_list)\n",
    "    else:\n",
    "        normal.append(temp_list)"
   ]
  },
  {
   "cell_type": "code",
   "execution_count": 4,
   "id": "8acb30eb-3bcd-4a4e-b3af-df15befda08b",
   "metadata": {},
   "outputs": [],
   "source": [
    "both_lists = attack + normal\n",
    "tokenizer = Tokenizer()\n",
    "tokenizer.fit_on_texts(both_lists)\n",
    "word_index = tokenizer.word_index\n"
   ]
  },
  {
   "cell_type": "code",
   "execution_count": 5,
   "id": "ae3b0c78-a0a7-41fe-adc0-0e862d9688b4",
   "metadata": {},
   "outputs": [],
   "source": [
    "X_train = normal[:500]\n",
    "X_val = normal[500:750]\n",
    "X_test = normal[750:] + attack\n",
    "tokened_Xtrain = tokenizer.texts_to_sequences(X_train)\n",
    "tokened_Xtest = tokenizer.texts_to_sequences(X_test)\n",
    "tokened_Xval = tokenizer.texts_to_sequences(X_val)\n",
    "max_length = 5000\n",
    "X_train_padded = pad_sequences(tokened_Xtrain, maxlen=max_length, padding='post')\n",
    "X_test_padded = pad_sequences(tokened_Xtest, maxlen=max_length, padding='post')\n",
    "X_val_padded = pad_sequences(tokened_Xval, maxlen=max_length, padding='post')\n"
   ]
  },
  {
   "cell_type": "code",
   "execution_count": 6,
   "id": "5dd7d697-60a8-42f8-9663-58820335ea2c",
   "metadata": {},
   "outputs": [],
   "source": [
    "K = len(word_index) + 1"
   ]
  },
  {
   "cell_type": "code",
   "execution_count": 7,
   "id": "c3025533-11ba-40a0-8c2a-9d3905c0c8ed",
   "metadata": {},
   "outputs": [],
   "source": [
    "model = Sequential()\n",
    "model.add(Embedding(input_dim=K, output_dim=400, input_length=None))\n",
    "model.add(LSTM(400, return_sequences=True))\n",
    "model.add(Dropout(0.5))\n",
    "model.add(Dense(K, activation='softmax'))  \n",
    "\n",
    "early_stopping = EarlyStopping(\n",
    "    monitor='val_loss',  # Metric to monitor\n",
    "    patience=3,          # Number of epochs with no improvement after which training will be stopped\n",
    "    restore_best_weights=True  # Restore the model weights from the epoch with the best value of the monitored metric\n",
    ")\n",
    "\n",
    "# Compile the model\n",
    "model.compile(optimizer='adam', loss='sparse_categorical_crossentropy', metrics=['sparse_categorical_crossentropy'])"
   ]
  },
  {
   "cell_type": "code",
   "execution_count": 8,
   "id": "e48b8fe8-d42a-4c8c-bce3-a11411b6cf59",
   "metadata": {},
   "outputs": [],
   "source": [
    "def add_train_labels(x):\n",
    "        return x[:-1], x[1:]\n",
    "    \n",
    "train = [add_train_labels(seq) for seq in X_train_padded]\n",
    "val = [add_train_labels(seq) for seq in X_val_padded]\n",
    "\n",
    "train_inputs, train_targets = zip(*train)\n",
    "val_inputs, val_targets = zip(*val)\n",
    "\n",
    "# Convert to numpy arrays\n",
    "train_inputs = np.array(train_inputs)\n",
    "train_targets = np.array(train_targets)\n",
    "val_inputs = np.array(val_inputs)\n",
    "val_targets = np.array(val_targets)\n",
    "\n"
   ]
  },
  {
   "cell_type": "code",
   "execution_count": 9,
   "id": "033e425a-2d4e-430c-963d-eb548fe855ba",
   "metadata": {},
   "outputs": [
    {
     "name": "stdout",
     "output_type": "stream",
     "text": [
      "Epoch 1/150\n",
      "16/16 - 175s - loss: 3.0972 - sparse_categorical_crossentropy: 3.0972 - val_loss: 5.9580 - val_sparse_categorical_crossentropy: 5.9580 - 175s/epoch - 11s/step\n",
      "Epoch 2/150\n",
      "16/16 - 179s - loss: 2.7108 - sparse_categorical_crossentropy: 2.7108 - val_loss: 2.2219 - val_sparse_categorical_crossentropy: 2.2219 - 179s/epoch - 11s/step\n",
      "Epoch 3/150\n",
      "16/16 - 187s - loss: 2.0575 - sparse_categorical_crossentropy: 2.0575 - val_loss: 1.7677 - val_sparse_categorical_crossentropy: 1.7677 - 187s/epoch - 12s/step\n",
      "Epoch 4/150\n",
      "16/16 - 181s - loss: 1.6507 - sparse_categorical_crossentropy: 1.6507 - val_loss: 1.3904 - val_sparse_categorical_crossentropy: 1.3904 - 181s/epoch - 11s/step\n",
      "Epoch 5/150\n",
      "16/16 - 180s - loss: 1.3351 - sparse_categorical_crossentropy: 1.3351 - val_loss: 1.1083 - val_sparse_categorical_crossentropy: 1.1083 - 180s/epoch - 11s/step\n",
      "Epoch 6/150\n",
      "16/16 - 188s - loss: 1.0988 - sparse_categorical_crossentropy: 1.0988 - val_loss: 0.9045 - val_sparse_categorical_crossentropy: 0.9045 - 188s/epoch - 12s/step\n",
      "Epoch 7/150\n",
      "16/16 - 188s - loss: 0.9209 - sparse_categorical_crossentropy: 0.9209 - val_loss: 0.7549 - val_sparse_categorical_crossentropy: 0.7549 - 188s/epoch - 12s/step\n",
      "Epoch 8/150\n",
      "16/16 - 188s - loss: 0.7921 - sparse_categorical_crossentropy: 0.7921 - val_loss: 0.6543 - val_sparse_categorical_crossentropy: 0.6543 - 188s/epoch - 12s/step\n",
      "Epoch 9/150\n",
      "16/16 - 185s - loss: 0.7000 - sparse_categorical_crossentropy: 0.7000 - val_loss: 0.5856 - val_sparse_categorical_crossentropy: 0.5856 - 185s/epoch - 12s/step\n",
      "Epoch 10/150\n",
      "16/16 - 184s - loss: 0.6325 - sparse_categorical_crossentropy: 0.6325 - val_loss: 0.5229 - val_sparse_categorical_crossentropy: 0.5229 - 184s/epoch - 12s/step\n",
      "Epoch 11/150\n",
      "16/16 - 184s - loss: 0.5723 - sparse_categorical_crossentropy: 0.5723 - val_loss: 0.4749 - val_sparse_categorical_crossentropy: 0.4749 - 184s/epoch - 12s/step\n",
      "Epoch 12/150\n",
      "16/16 - 183s - loss: 0.5289 - sparse_categorical_crossentropy: 0.5289 - val_loss: 0.4429 - val_sparse_categorical_crossentropy: 0.4429 - 183s/epoch - 11s/step\n",
      "Epoch 13/150\n",
      "16/16 - 181s - loss: 0.4940 - sparse_categorical_crossentropy: 0.4940 - val_loss: 0.4155 - val_sparse_categorical_crossentropy: 0.4155 - 181s/epoch - 11s/step\n",
      "Epoch 14/150\n",
      "16/16 - 185s - loss: 0.4661 - sparse_categorical_crossentropy: 0.4661 - val_loss: 0.3911 - val_sparse_categorical_crossentropy: 0.3911 - 185s/epoch - 12s/step\n",
      "Epoch 15/150\n",
      "16/16 - 188s - loss: 0.4431 - sparse_categorical_crossentropy: 0.4431 - val_loss: 0.3724 - val_sparse_categorical_crossentropy: 0.3724 - 188s/epoch - 12s/step\n",
      "Epoch 16/150\n",
      "16/16 - 184s - loss: 0.4208 - sparse_categorical_crossentropy: 0.4208 - val_loss: 0.3566 - val_sparse_categorical_crossentropy: 0.3566 - 184s/epoch - 12s/step\n",
      "Epoch 17/150\n",
      "16/16 - 185s - loss: 0.4207 - sparse_categorical_crossentropy: 0.4207 - val_loss: 0.3563 - val_sparse_categorical_crossentropy: 0.3563 - 185s/epoch - 12s/step\n",
      "Epoch 18/150\n",
      "16/16 - 186s - loss: 0.3985 - sparse_categorical_crossentropy: 0.3985 - val_loss: 0.3364 - val_sparse_categorical_crossentropy: 0.3364 - 186s/epoch - 12s/step\n",
      "Epoch 19/150\n",
      "16/16 - 180s - loss: 0.3791 - sparse_categorical_crossentropy: 0.3791 - val_loss: 0.3227 - val_sparse_categorical_crossentropy: 0.3227 - 180s/epoch - 11s/step\n",
      "Epoch 20/150\n",
      "16/16 - 182s - loss: 0.3654 - sparse_categorical_crossentropy: 0.3654 - val_loss: 0.3132 - val_sparse_categorical_crossentropy: 0.3132 - 182s/epoch - 11s/step\n",
      "Epoch 21/150\n",
      "16/16 - 186s - loss: 0.3541 - sparse_categorical_crossentropy: 0.3541 - val_loss: 0.3044 - val_sparse_categorical_crossentropy: 0.3044 - 186s/epoch - 12s/step\n",
      "Epoch 22/150\n",
      "16/16 - 184s - loss: 0.3447 - sparse_categorical_crossentropy: 0.3447 - val_loss: 0.2978 - val_sparse_categorical_crossentropy: 0.2978 - 184s/epoch - 12s/step\n",
      "Epoch 23/150\n",
      "16/16 - 185s - loss: 0.3388 - sparse_categorical_crossentropy: 0.3388 - val_loss: 0.2924 - val_sparse_categorical_crossentropy: 0.2924 - 185s/epoch - 12s/step\n",
      "Epoch 24/150\n",
      "16/16 - 189s - loss: 0.3307 - sparse_categorical_crossentropy: 0.3307 - val_loss: 0.2863 - val_sparse_categorical_crossentropy: 0.2863 - 189s/epoch - 12s/step\n",
      "Epoch 25/150\n",
      "16/16 - 183s - loss: 0.3244 - sparse_categorical_crossentropy: 0.3244 - val_loss: 0.2802 - val_sparse_categorical_crossentropy: 0.2802 - 183s/epoch - 11s/step\n",
      "Epoch 26/150\n",
      "16/16 - 185s - loss: 0.3170 - sparse_categorical_crossentropy: 0.3170 - val_loss: 0.2766 - val_sparse_categorical_crossentropy: 0.2766 - 185s/epoch - 12s/step\n",
      "Epoch 27/150\n",
      "16/16 - 185s - loss: 0.3137 - sparse_categorical_crossentropy: 0.3137 - val_loss: 0.2737 - val_sparse_categorical_crossentropy: 0.2737 - 185s/epoch - 12s/step\n",
      "Epoch 28/150\n",
      "16/16 - 190s - loss: 0.3069 - sparse_categorical_crossentropy: 0.3069 - val_loss: 0.2687 - val_sparse_categorical_crossentropy: 0.2687 - 190s/epoch - 12s/step\n",
      "Epoch 29/150\n",
      "16/16 - 181s - loss: 0.3048 - sparse_categorical_crossentropy: 0.3048 - val_loss: 0.2661 - val_sparse_categorical_crossentropy: 0.2661 - 181s/epoch - 11s/step\n",
      "Epoch 30/150\n",
      "16/16 - 183s - loss: 0.2969 - sparse_categorical_crossentropy: 0.2969 - val_loss: 0.2601 - val_sparse_categorical_crossentropy: 0.2601 - 183s/epoch - 11s/step\n",
      "Epoch 31/150\n",
      "16/16 - 183s - loss: 0.2926 - sparse_categorical_crossentropy: 0.2926 - val_loss: 0.2611 - val_sparse_categorical_crossentropy: 0.2611 - 183s/epoch - 11s/step\n",
      "Epoch 32/150\n",
      "16/16 - 182s - loss: 0.2917 - sparse_categorical_crossentropy: 0.2917 - val_loss: 0.2559 - val_sparse_categorical_crossentropy: 0.2559 - 182s/epoch - 11s/step\n",
      "Epoch 33/150\n",
      "16/16 - 187s - loss: 0.2844 - sparse_categorical_crossentropy: 0.2844 - val_loss: 0.2509 - val_sparse_categorical_crossentropy: 0.2509 - 187s/epoch - 12s/step\n",
      "Epoch 34/150\n",
      "16/16 - 183s - loss: 0.2801 - sparse_categorical_crossentropy: 0.2801 - val_loss: 0.2502 - val_sparse_categorical_crossentropy: 0.2502 - 183s/epoch - 11s/step\n",
      "Epoch 35/150\n",
      "16/16 - 181s - loss: 0.2787 - sparse_categorical_crossentropy: 0.2787 - val_loss: 0.2463 - val_sparse_categorical_crossentropy: 0.2463 - 181s/epoch - 11s/step\n",
      "Epoch 36/150\n",
      "16/16 - 179s - loss: 0.2744 - sparse_categorical_crossentropy: 0.2744 - val_loss: 0.2456 - val_sparse_categorical_crossentropy: 0.2456 - 179s/epoch - 11s/step\n",
      "Epoch 37/150\n",
      "16/16 - 186s - loss: 0.2731 - sparse_categorical_crossentropy: 0.2731 - val_loss: 0.2460 - val_sparse_categorical_crossentropy: 0.2460 - 186s/epoch - 12s/step\n",
      "Epoch 38/150\n",
      "16/16 - 180s - loss: 0.2701 - sparse_categorical_crossentropy: 0.2701 - val_loss: 0.2395 - val_sparse_categorical_crossentropy: 0.2395 - 180s/epoch - 11s/step\n",
      "Epoch 39/150\n",
      "16/16 - 186s - loss: 0.2648 - sparse_categorical_crossentropy: 0.2648 - val_loss: 0.2358 - val_sparse_categorical_crossentropy: 0.2358 - 186s/epoch - 12s/step\n",
      "Epoch 40/150\n",
      "16/16 - 187s - loss: 0.2622 - sparse_categorical_crossentropy: 0.2622 - val_loss: 0.2350 - val_sparse_categorical_crossentropy: 0.2350 - 187s/epoch - 12s/step\n",
      "Epoch 41/150\n",
      "16/16 - 181s - loss: 0.2602 - sparse_categorical_crossentropy: 0.2602 - val_loss: 0.2317 - val_sparse_categorical_crossentropy: 0.2317 - 181s/epoch - 11s/step\n",
      "Epoch 42/150\n",
      "16/16 - 186s - loss: 0.2578 - sparse_categorical_crossentropy: 0.2578 - val_loss: 0.2316 - val_sparse_categorical_crossentropy: 0.2316 - 186s/epoch - 12s/step\n",
      "Epoch 43/150\n",
      "16/16 - 184s - loss: 0.2561 - sparse_categorical_crossentropy: 0.2561 - val_loss: 0.2314 - val_sparse_categorical_crossentropy: 0.2314 - 184s/epoch - 11s/step\n",
      "Epoch 44/150\n",
      "16/16 - 184s - loss: 0.2534 - sparse_categorical_crossentropy: 0.2534 - val_loss: 0.2270 - val_sparse_categorical_crossentropy: 0.2270 - 184s/epoch - 12s/step\n",
      "Epoch 45/150\n",
      "16/16 - 183s - loss: 0.2522 - sparse_categorical_crossentropy: 0.2522 - val_loss: 0.2263 - val_sparse_categorical_crossentropy: 0.2263 - 183s/epoch - 11s/step\n",
      "Epoch 46/150\n",
      "16/16 - 185s - loss: 0.2492 - sparse_categorical_crossentropy: 0.2492 - val_loss: 0.2236 - val_sparse_categorical_crossentropy: 0.2236 - 185s/epoch - 12s/step\n",
      "Epoch 47/150\n",
      "16/16 - 181s - loss: 0.2464 - sparse_categorical_crossentropy: 0.2464 - val_loss: 0.2228 - val_sparse_categorical_crossentropy: 0.2228 - 181s/epoch - 11s/step\n",
      "Epoch 48/150\n",
      "16/16 - 180s - loss: 0.2451 - sparse_categorical_crossentropy: 0.2451 - val_loss: 0.2233 - val_sparse_categorical_crossentropy: 0.2233 - 180s/epoch - 11s/step\n",
      "Epoch 49/150\n",
      "16/16 - 180s - loss: 0.2444 - sparse_categorical_crossentropy: 0.2444 - val_loss: 0.2250 - val_sparse_categorical_crossentropy: 0.2250 - 180s/epoch - 11s/step\n",
      "Epoch 50/150\n",
      "16/16 - 190s - loss: 0.2484 - sparse_categorical_crossentropy: 0.2484 - val_loss: 0.2210 - val_sparse_categorical_crossentropy: 0.2210 - 190s/epoch - 12s/step\n",
      "Epoch 51/150\n",
      "16/16 - 194s - loss: 0.2413 - sparse_categorical_crossentropy: 0.2413 - val_loss: 0.2168 - val_sparse_categorical_crossentropy: 0.2168 - 194s/epoch - 12s/step\n",
      "Epoch 52/150\n",
      "16/16 - 194s - loss: 0.2379 - sparse_categorical_crossentropy: 0.2379 - val_loss: 0.2172 - val_sparse_categorical_crossentropy: 0.2172 - 194s/epoch - 12s/step\n",
      "Epoch 53/150\n",
      "16/16 - 186s - loss: 0.2362 - sparse_categorical_crossentropy: 0.2362 - val_loss: 0.2140 - val_sparse_categorical_crossentropy: 0.2140 - 186s/epoch - 12s/step\n",
      "Epoch 54/150\n",
      "16/16 - 187s - loss: 0.2340 - sparse_categorical_crossentropy: 0.2340 - val_loss: 0.2122 - val_sparse_categorical_crossentropy: 0.2122 - 187s/epoch - 12s/step\n",
      "Epoch 55/150\n",
      "16/16 - 185s - loss: 0.2321 - sparse_categorical_crossentropy: 0.2321 - val_loss: 0.2124 - val_sparse_categorical_crossentropy: 0.2124 - 185s/epoch - 12s/step\n",
      "Epoch 56/150\n",
      "16/16 - 181s - loss: 0.2311 - sparse_categorical_crossentropy: 0.2311 - val_loss: 0.2099 - val_sparse_categorical_crossentropy: 0.2099 - 181s/epoch - 11s/step\n",
      "Epoch 57/150\n",
      "16/16 - 184s - loss: 0.2295 - sparse_categorical_crossentropy: 0.2295 - val_loss: 0.2104 - val_sparse_categorical_crossentropy: 0.2104 - 184s/epoch - 11s/step\n",
      "Epoch 58/150\n",
      "16/16 - 182s - loss: 0.2284 - sparse_categorical_crossentropy: 0.2284 - val_loss: 0.2097 - val_sparse_categorical_crossentropy: 0.2097 - 182s/epoch - 11s/step\n",
      "Epoch 59/150\n",
      "16/16 - 179s - loss: 0.2281 - sparse_categorical_crossentropy: 0.2281 - val_loss: 0.2077 - val_sparse_categorical_crossentropy: 0.2077 - 179s/epoch - 11s/step\n",
      "Epoch 60/150\n",
      "16/16 - 184s - loss: 0.2275 - sparse_categorical_crossentropy: 0.2275 - val_loss: 0.2087 - val_sparse_categorical_crossentropy: 0.2087 - 184s/epoch - 12s/step\n",
      "Epoch 61/150\n",
      "16/16 - 184s - loss: 0.2268 - sparse_categorical_crossentropy: 0.2268 - val_loss: 0.2055 - val_sparse_categorical_crossentropy: 0.2055 - 184s/epoch - 11s/step\n",
      "Epoch 62/150\n",
      "16/16 - 183s - loss: 0.2232 - sparse_categorical_crossentropy: 0.2232 - val_loss: 0.2037 - val_sparse_categorical_crossentropy: 0.2037 - 183s/epoch - 11s/step\n",
      "Epoch 63/150\n",
      "16/16 - 183s - loss: 0.2207 - sparse_categorical_crossentropy: 0.2207 - val_loss: 0.2030 - val_sparse_categorical_crossentropy: 0.2030 - 183s/epoch - 11s/step\n",
      "Epoch 64/150\n",
      "16/16 - 188s - loss: 0.2199 - sparse_categorical_crossentropy: 0.2199 - val_loss: 0.2024 - val_sparse_categorical_crossentropy: 0.2024 - 188s/epoch - 12s/step\n",
      "Epoch 65/150\n",
      "16/16 - 182s - loss: 0.2188 - sparse_categorical_crossentropy: 0.2188 - val_loss: 0.2016 - val_sparse_categorical_crossentropy: 0.2016 - 182s/epoch - 11s/step\n",
      "Epoch 66/150\n",
      "16/16 - 177s - loss: 0.2186 - sparse_categorical_crossentropy: 0.2186 - val_loss: 0.2017 - val_sparse_categorical_crossentropy: 0.2017 - 177s/epoch - 11s/step\n",
      "Epoch 67/150\n",
      "16/16 - 180s - loss: 0.2165 - sparse_categorical_crossentropy: 0.2165 - val_loss: 0.1992 - val_sparse_categorical_crossentropy: 0.1992 - 180s/epoch - 11s/step\n",
      "Epoch 68/150\n",
      "16/16 - 182s - loss: 0.2146 - sparse_categorical_crossentropy: 0.2146 - val_loss: 0.1980 - val_sparse_categorical_crossentropy: 0.1980 - 182s/epoch - 11s/step\n",
      "Epoch 69/150\n",
      "16/16 - 177s - loss: 0.2146 - sparse_categorical_crossentropy: 0.2146 - val_loss: 0.2015 - val_sparse_categorical_crossentropy: 0.2015 - 177s/epoch - 11s/step\n",
      "Epoch 70/150\n",
      "16/16 - 182s - loss: 0.2208 - sparse_categorical_crossentropy: 0.2208 - val_loss: 0.2011 - val_sparse_categorical_crossentropy: 0.2011 - 182s/epoch - 11s/step\n",
      "Epoch 71/150\n",
      "16/16 - 183s - loss: 0.2157 - sparse_categorical_crossentropy: 0.2157 - val_loss: 0.2007 - val_sparse_categorical_crossentropy: 0.2007 - 183s/epoch - 11s/step\n"
     ]
    },
    {
     "data": {
      "text/plain": [
       "<keras.src.callbacks.History at 0x2da7abe20>"
      ]
     },
     "execution_count": 9,
     "metadata": {},
     "output_type": "execute_result"
    }
   ],
   "source": [
    "model.fit(\n",
    "            train_inputs,\n",
    "            train_targets,\n",
    "            validation_data=(val_inputs, val_targets),\n",
    "            epochs=150,\n",
    "            verbose=2,\n",
    "            shuffle=True,\n",
    "            callbacks=[early_stopping],\n",
    "        )\n"
   ]
  },
  {
   "cell_type": "code",
   "execution_count": 10,
   "id": "7e28df13-b554-4c9e-b902-5fbe67252181",
   "metadata": {},
   "outputs": [
    {
     "name": "stdout",
     "output_type": "stream",
     "text": [
      "342\n",
      "11/11 [==============================] - 56s 5s/step\n",
      "(342, 5000, 46)\n"
     ]
    }
   ],
   "source": [
    "test = X_test_padded\n",
    "print(len(test))\n",
    "y_pred = model.predict(test)\n",
    "print(y_pred.shape)"
   ]
  },
  {
   "cell_type": "code",
   "execution_count": 29,
   "id": "87c996bb-bd4b-43da-9807-d1783ddd8ea9",
   "metadata": {},
   "outputs": [
    {
     "name": "stdout",
     "output_type": "stream",
     "text": [
      "0.0\n",
      "1e+100\n"
     ]
    },
    {
     "name": "stderr",
     "output_type": "stream",
     "text": [
      "/var/folders/3h/y_qnsnq52n93k74_yg69zwgh0000gn/T/ipykernel_2243/1360192527.py:3: RuntimeWarning: divide by zero encountered in log2\n",
      "  final_prob = np.clip(-np.log2(probs), a_min=0, a_max=1e100)\n"
     ]
    }
   ],
   "source": [
    "probs = np.array([pred.max(axis=-1).prod(axis=-1) for pred in y_pred])\n",
    "print(probs[0])\n",
    "final_prob = np.clip(-np.log2(probs), a_min=0, a_max=1e100)\n",
    "print(final_prob[0])"
   ]
  },
  {
   "cell_type": "code",
   "execution_count": 26,
   "id": "ba843ca7-70a0-4a00-a05d-162dfa61e938",
   "metadata": {},
   "outputs": [
    {
     "name": "stdout",
     "output_type": "stream",
     "text": [
      "[[6.2909007e-02 3.0511871e-02 3.1420857e-02 ... 1.0055612e-02\n",
      "  4.1131340e-03 7.1503883e-03]\n",
      " [2.4179790e-02 5.8542420e-03 6.5182569e-03 ... 4.4699226e-04\n",
      "  1.0418598e-04 3.8687792e-04]\n",
      " [2.8951035e-03 1.1088334e-03 1.7825197e-03 ... 2.9526534e-04\n",
      "  2.6369446e-05 3.1348824e-05]\n",
      " ...\n",
      " [7.8854818e-08 2.4499556e-07 1.5443118e-05 ... 9.8525907e-09\n",
      "  1.0491609e-08 1.0637860e-08]\n",
      " [7.4043932e-08 1.4120008e-07 7.1686291e-06 ... 1.1938152e-09\n",
      "  3.1653067e-09 4.5945625e-09]\n",
      " [1.3857191e-06 7.8768545e-07 3.0243014e-05 ... 2.1421108e-08\n",
      "  4.8178840e-08 2.7494286e-08]]\n"
     ]
    }
   ],
   "source": [
    "print(y_pred[0])"
   ]
  },
  {
   "cell_type": "code",
   "execution_count": 33,
   "id": "c7c1d041-ff93-472e-a220-5376d5d9e95f",
   "metadata": {},
   "outputs": [
    {
     "name": "stdout",
     "output_type": "stream",
     "text": [
      "[0.28104645 0.8564893  0.8017733  ... 0.9995943  0.9992286  0.60562146]\n"
     ]
    }
   ],
   "source": [
    "maxes = np.array([pred.max(axis=-1) for pred in y_pred])\n",
    "print(maxes[0)"
   ]
  },
  {
   "cell_type": "code",
   "execution_count": 11,
   "id": "ba91bebf-ac96-4bf4-ba99-2c4b78c2a5df",
   "metadata": {},
   "outputs": [],
   "source": [
    "sums = np.array([-np.log(pred.max(axis=-1)).sum(axis=-1) for pred in y_pred])\n"
   ]
  },
  {
   "cell_type": "code",
   "execution_count": 12,
   "id": "9555b5ae-a974-448b-9a8e-f4f82472fc6f",
   "metadata": {},
   "outputs": [
    {
     "name": "stdout",
     "output_type": "stream",
     "text": [
      "8/8 [==============================] - 47s 6s/step\n"
     ]
    }
   ],
   "source": [
    "val = X_val_padded\n",
    "y_val = model.predict(val)\n",
    "sums_val = np.array([-np.log(pred.max(axis=-1)).sum(axis=-1) for pred in y_val])\n"
   ]
  },
  {
   "cell_type": "code",
   "execution_count": 13,
   "id": "6a7cf6d5-b921-4288-86c6-2d64f8768cb0",
   "metadata": {},
   "outputs": [
    {
     "name": "stdout",
     "output_type": "stream",
     "text": [
      "582.3398284912109\n"
     ]
    }
   ],
   "source": [
    "threshold = np.mean(sums_val) + 2*np.std(sums_val)\n",
    "print(threshold)"
   ]
  },
  {
   "cell_type": "code",
   "execution_count": 19,
   "id": "15858c64-467f-4d6f-a830-027a467896a6",
   "metadata": {},
   "outputs": [
    {
     "name": "stdout",
     "output_type": "stream",
     "text": [
      "323\n",
      "342\n",
      "0.9444444444444444\n"
     ]
    }
   ],
   "source": [
    "successes = 0\n",
    "total = len(test)\n",
    "pred = []\n",
    "norms_len = total - len(attack)\n",
    "testY = []\n",
    "for i in range(total):\n",
    "    if sums[i] <= threshold:\n",
    "        pred.append(0)\n",
    "    else:\n",
    "        pred.append(1)\n",
    "    if i < norms_len:\n",
    "        testY.append(0)\n",
    "        if sums[i] <= threshold:\n",
    "            successes += 1\n",
    "    else:\n",
    "        testY.append(1)\n",
    "        if sums[i] > threshold:\n",
    "            successes += 1\n",
    "print(successes)\n",
    "print(total)\n",
    "print(successes / total)"
   ]
  },
  {
   "cell_type": "code",
   "execution_count": 15,
   "id": "7955184f-da96-4ad3-9e38-c1464adaa270",
   "metadata": {},
   "outputs": [],
   "source": [
    "from sklearn.metrics import accuracy_score, precision_score, recall_score, f1_score"
   ]
  },
  {
   "cell_type": "code",
   "execution_count": 21,
   "id": "4d2fcce1-0360-4d8a-aadd-944726ac1cbc",
   "metadata": {},
   "outputs": [
    {
     "name": "stdout",
     "output_type": "stream",
     "text": [
      "Precision:  0.9591836734693877\n",
      "Recall:  0.9631147540983607\n",
      "f1:  0.9611451942740287\n"
     ]
    }
   ],
   "source": [
    "precision = precision_score(testY, pred, pos_label=0)\n",
    "recall = recall_score(testY, pred, pos_label=0)\n",
    "f1 = f1_score(testY, pred, pos_label=0)\n",
    "print(\"Precision: \",precision)\n",
    "print(\"Recall: \",recall)\n",
    "print(\"f1: \",f1)"
   ]
  },
  {
   "cell_type": "code",
   "execution_count": 18,
   "id": "47bb5dd1-3641-4650-bbf3-ee54af4b90ad",
   "metadata": {},
   "outputs": [
    {
     "name": "stdout",
     "output_type": "stream",
     "text": [
      "[[15 15  8 ...  3  3  4]\n",
      " [ 5  5 11 ...  1  1  4]\n",
      " [20 19 19 ...  0  0  0]\n",
      " ...\n",
      " [ 2  4  4 ... 17 17  4]\n",
      " [15  5  5 ...  3 33 34]\n",
      " [ 8 15 15 ... 19 19 20]]\n",
      "[0, 0, 0, 0, 0, 0, 0, 0, 0, 0, 0, 0, 0, 0, 0, 0, 0, 0, 0, 0, 0, 0, 0, 0, 0, 0, 0, 0, 0, 0, 0, 0, 0, 0, 0, 0, 0, 0, 0, 0, 0, 0, 0, 0, 0, 0, 0, 0, 0, 0, 0, 0, 0, 0, 0, 1, 0, 0, 0, 0, 1, 0, 0, 0, 0, 0, 0, 0, 0, 0, 0, 0, 0, 0, 0, 0, 0, 0, 0, 0, 0, 0, 0, 0, 0, 0, 0, 0, 0, 0, 0, 0, 0, 0, 0, 0, 0, 0, 0, 0, 0, 0, 0, 0, 0, 0, 0, 0, 0, 0, 0, 0, 0, 0, 0, 0, 0, 0, 0, 0, 0, 0, 0, 0, 0, 0, 0, 0, 0, 0, 0, 0, 0, 0, 0, 0, 0, 0, 0, 0, 0, 0, 0, 0, 0, 0, 0, 0, 0, 0, 0, 0, 0, 0, 0, 0, 0, 0, 0, 0, 0, 0, 0, 0, 0, 0, 0, 0, 0, 0, 0, 0, 0, 0, 0, 0, 0, 0, 0, 0, 0, 0, 0, 0, 0, 0, 0, 0, 0, 1, 0, 0, 0, 0, 0, 0, 1, 0, 0, 0, 0, 0, 0, 0, 0, 0, 0, 0, 0, 0, 0, 0, 0, 0, 0, 0, 0, 0, 0, 0, 0, 0, 0, 0, 0, 0, 0, 1, 1, 0, 0, 0, 1, 0, 0, 0, 0, 0, 1, 0, 0, 0, 1, 0, 1, 1, 1, 1, 1, 1, 1, 1, 0, 1, 1, 0, 1, 1, 1, 1, 1, 1, 1, 1, 1, 1, 1, 1, 1, 0, 1, 1, 1, 1, 1, 0, 1, 1, 1, 1, 1, 1, 1, 1, 1, 1, 1, 1, 1, 1, 1, 0, 1, 1, 1, 1, 1, 1, 1, 1, 1, 1, 1, 1, 1, 1, 0, 1, 1, 1, 1, 1, 1, 1, 1, 1, 1, 1, 1, 1, 1, 1, 1, 1, 1, 1, 1, 0, 1, 1, 1, 1, 1, 1, 0, 0, 1, 1, 1, 1, 0, 1]\n"
     ]
    }
   ],
   "source": [
    "print(test)\n",
    "print(pred)"
   ]
  },
  {
   "cell_type": "code",
   "execution_count": 22,
   "id": "26f00621-f2be-4382-bff0-6271085df785",
   "metadata": {},
   "outputs": [],
   "source": [
    "df2 = pd.read_csv('CVE-2012-2122.csv')\n",
    "attack = []\n",
    "normal = []\n",
    "for i in range(len(df2)):\n",
    "    calls = ast.literal_eval(df2.iloc[i]['syscalls'])\n",
    "    check = df2.iloc[i]['is_exploit']\n",
    "    \n",
    "    temp_list = []\n",
    "    for j in range(len(calls)):\n",
    "        temp_list.append(calls[j]['name'])\n",
    "    if check:\n",
    "        attack.append(temp_list)\n",
    "    else:\n",
    "        normal.append(temp_list)\n",
    "\n",
    "both_lists = attack + normal\n",
    "tokenizer = Tokenizer()\n",
    "tokenizer.fit_on_texts(both_lists)\n",
    "word_index = tokenizer.word_index\n",
    "\n",
    "X_train = normal[:850]\n",
    "X_val = normal[850:1050]\n",
    "X_test = normal[1050:] + attack\n",
    "tokened_Xtrain = tokenizer.texts_to_sequences(X_train)\n",
    "tokened_Xtest = tokenizer.texts_to_sequences(X_test)\n",
    "tokened_Xval = tokenizer.texts_to_sequences(X_val)\n",
    "max_length = 7500\n",
    "X_train_padded = pad_sequences(tokened_Xtrain, maxlen=max_length, padding='post')\n",
    "X_test_padded = pad_sequences(tokened_Xtest, maxlen=max_length, padding='post')\n",
    "X_val_padded = pad_sequences(tokened_Xval, maxlen=max_length, padding='post')\n",
    "\n",
    "K = len(word_index) + 1"
   ]
  },
  {
   "cell_type": "code",
   "execution_count": 23,
   "id": "4c284081-54fb-411e-a4f6-6e0714e08d66",
   "metadata": {},
   "outputs": [],
   "source": [
    "train = [add_train_labels(seq) for seq in X_train_padded]\n",
    "val = [add_train_labels(seq) for seq in X_val_padded]\n",
    "\n",
    "train_inputs, train_targets = zip(*train)\n",
    "val_inputs, val_targets = zip(*val)\n",
    "\n",
    "# Convert to numpy arrays\n",
    "train_inputs = np.array(train_inputs)\n",
    "train_targets = np.array(train_targets)\n",
    "val_inputs = np.array(val_inputs)\n",
    "val_targets = np.array(val_targets)"
   ]
  },
  {
   "cell_type": "code",
   "execution_count": 24,
   "id": "08eb84fd-2403-4358-b2cb-c8db24d98f1e",
   "metadata": {},
   "outputs": [
    {
     "name": "stdout",
     "output_type": "stream",
     "text": [
      "Epoch 1/150\n",
      "27/27 - 404s - loss: 0.9476 - sparse_categorical_crossentropy: 0.9476 - val_loss: 0.4495 - val_sparse_categorical_crossentropy: 0.4495 - 404s/epoch - 15s/step\n",
      "Epoch 2/150\n",
      "27/27 - 406s - loss: 0.4021 - sparse_categorical_crossentropy: 0.4021 - val_loss: 0.3539 - val_sparse_categorical_crossentropy: 0.3539 - 406s/epoch - 15s/step\n",
      "Epoch 3/150\n",
      "27/27 - 374s - loss: 0.3403 - sparse_categorical_crossentropy: 0.3403 - val_loss: 0.3121 - val_sparse_categorical_crossentropy: 0.3121 - 374s/epoch - 14s/step\n",
      "Epoch 4/150\n",
      "27/27 - 380s - loss: 0.3062 - sparse_categorical_crossentropy: 0.3062 - val_loss: 0.2828 - val_sparse_categorical_crossentropy: 0.2828 - 380s/epoch - 14s/step\n",
      "Epoch 5/150\n",
      "27/27 - 371s - loss: 0.2826 - sparse_categorical_crossentropy: 0.2826 - val_loss: 0.2624 - val_sparse_categorical_crossentropy: 0.2624 - 371s/epoch - 14s/step\n",
      "Epoch 6/150\n",
      "27/27 - 373s - loss: 0.2658 - sparse_categorical_crossentropy: 0.2658 - val_loss: 0.2484 - val_sparse_categorical_crossentropy: 0.2484 - 373s/epoch - 14s/step\n",
      "Epoch 7/150\n",
      "27/27 - 370s - loss: 0.2550 - sparse_categorical_crossentropy: 0.2550 - val_loss: 0.2373 - val_sparse_categorical_crossentropy: 0.2373 - 370s/epoch - 14s/step\n",
      "Epoch 8/150\n",
      "27/27 - 370s - loss: 0.2425 - sparse_categorical_crossentropy: 0.2425 - val_loss: 0.2277 - val_sparse_categorical_crossentropy: 0.2277 - 370s/epoch - 14s/step\n",
      "Epoch 9/150\n",
      "27/27 - 368s - loss: 0.2329 - sparse_categorical_crossentropy: 0.2329 - val_loss: 0.2195 - val_sparse_categorical_crossentropy: 0.2195 - 368s/epoch - 14s/step\n",
      "Epoch 10/150\n",
      "27/27 - 373s - loss: 0.2257 - sparse_categorical_crossentropy: 0.2257 - val_loss: 0.2133 - val_sparse_categorical_crossentropy: 0.2133 - 373s/epoch - 14s/step\n",
      "Epoch 11/150\n",
      "27/27 - 365s - loss: 0.2198 - sparse_categorical_crossentropy: 0.2198 - val_loss: 0.2086 - val_sparse_categorical_crossentropy: 0.2086 - 365s/epoch - 14s/step\n",
      "Epoch 12/150\n",
      "27/27 - 369s - loss: 0.2153 - sparse_categorical_crossentropy: 0.2153 - val_loss: 0.2045 - val_sparse_categorical_crossentropy: 0.2045 - 369s/epoch - 14s/step\n",
      "Epoch 13/150\n",
      "27/27 - 370s - loss: 0.2107 - sparse_categorical_crossentropy: 0.2107 - val_loss: 0.2005 - val_sparse_categorical_crossentropy: 0.2005 - 370s/epoch - 14s/step\n",
      "Epoch 14/150\n",
      "27/27 - 374s - loss: 0.2058 - sparse_categorical_crossentropy: 0.2058 - val_loss: 0.1988 - val_sparse_categorical_crossentropy: 0.1988 - 374s/epoch - 14s/step\n",
      "Epoch 15/150\n",
      "27/27 - 370s - loss: 0.2026 - sparse_categorical_crossentropy: 0.2026 - val_loss: 0.1926 - val_sparse_categorical_crossentropy: 0.1926 - 370s/epoch - 14s/step\n",
      "Epoch 16/150\n",
      "27/27 - 370s - loss: 0.1985 - sparse_categorical_crossentropy: 0.1985 - val_loss: 0.1896 - val_sparse_categorical_crossentropy: 0.1896 - 370s/epoch - 14s/step\n",
      "Epoch 17/150\n",
      "27/27 - 372s - loss: 0.1952 - sparse_categorical_crossentropy: 0.1952 - val_loss: 0.1861 - val_sparse_categorical_crossentropy: 0.1861 - 372s/epoch - 14s/step\n",
      "Epoch 18/150\n",
      "27/27 - 370s - loss: 0.1925 - sparse_categorical_crossentropy: 0.1925 - val_loss: 0.1841 - val_sparse_categorical_crossentropy: 0.1841 - 370s/epoch - 14s/step\n",
      "Epoch 19/150\n",
      "27/27 - 376s - loss: 0.1893 - sparse_categorical_crossentropy: 0.1893 - val_loss: 0.1812 - val_sparse_categorical_crossentropy: 0.1812 - 376s/epoch - 14s/step\n",
      "Epoch 20/150\n",
      "27/27 - 368s - loss: 0.1970 - sparse_categorical_crossentropy: 0.1970 - val_loss: 0.1868 - val_sparse_categorical_crossentropy: 0.1868 - 368s/epoch - 14s/step\n",
      "Epoch 21/150\n",
      "27/27 - 377s - loss: 0.1893 - sparse_categorical_crossentropy: 0.1893 - val_loss: 0.1792 - val_sparse_categorical_crossentropy: 0.1792 - 377s/epoch - 14s/step\n",
      "Epoch 22/150\n",
      "27/27 - 378s - loss: 0.1843 - sparse_categorical_crossentropy: 0.1843 - val_loss: 0.1767 - val_sparse_categorical_crossentropy: 0.1767 - 378s/epoch - 14s/step\n",
      "Epoch 23/150\n",
      "27/27 - 366s - loss: 0.1814 - sparse_categorical_crossentropy: 0.1814 - val_loss: 0.1740 - val_sparse_categorical_crossentropy: 0.1740 - 366s/epoch - 14s/step\n",
      "Epoch 24/150\n",
      "27/27 - 368s - loss: 0.1793 - sparse_categorical_crossentropy: 0.1793 - val_loss: 0.1719 - val_sparse_categorical_crossentropy: 0.1719 - 368s/epoch - 14s/step\n",
      "Epoch 25/150\n",
      "27/27 - 365s - loss: 0.1776 - sparse_categorical_crossentropy: 0.1776 - val_loss: 0.1713 - val_sparse_categorical_crossentropy: 0.1713 - 365s/epoch - 14s/step\n",
      "Epoch 26/150\n",
      "27/27 - 368s - loss: 0.1759 - sparse_categorical_crossentropy: 0.1759 - val_loss: 0.1689 - val_sparse_categorical_crossentropy: 0.1689 - 368s/epoch - 14s/step\n",
      "Epoch 27/150\n",
      "27/27 - 370s - loss: 0.1739 - sparse_categorical_crossentropy: 0.1739 - val_loss: 0.1673 - val_sparse_categorical_crossentropy: 0.1673 - 370s/epoch - 14s/step\n",
      "Epoch 28/150\n",
      "27/27 - 373s - loss: 0.1723 - sparse_categorical_crossentropy: 0.1723 - val_loss: 0.1663 - val_sparse_categorical_crossentropy: 0.1663 - 373s/epoch - 14s/step\n",
      "Epoch 29/150\n",
      "27/27 - 367s - loss: 0.1706 - sparse_categorical_crossentropy: 0.1706 - val_loss: 0.1649 - val_sparse_categorical_crossentropy: 0.1649 - 367s/epoch - 14s/step\n",
      "Epoch 30/150\n",
      "27/27 - 367s - loss: 0.1692 - sparse_categorical_crossentropy: 0.1692 - val_loss: 0.1645 - val_sparse_categorical_crossentropy: 0.1645 - 367s/epoch - 14s/step\n",
      "Epoch 31/150\n",
      "27/27 - 365s - loss: 0.1683 - sparse_categorical_crossentropy: 0.1683 - val_loss: 0.1623 - val_sparse_categorical_crossentropy: 0.1623 - 365s/epoch - 14s/step\n",
      "Epoch 32/150\n",
      "27/27 - 371s - loss: 0.1670 - sparse_categorical_crossentropy: 0.1670 - val_loss: 0.1609 - val_sparse_categorical_crossentropy: 0.1609 - 371s/epoch - 14s/step\n",
      "Epoch 33/150\n",
      "27/27 - 364s - loss: 0.1673 - sparse_categorical_crossentropy: 0.1673 - val_loss: 0.1624 - val_sparse_categorical_crossentropy: 0.1624 - 364s/epoch - 13s/step\n",
      "Epoch 34/150\n",
      "27/27 - 371s - loss: 0.1656 - sparse_categorical_crossentropy: 0.1656 - val_loss: 0.1594 - val_sparse_categorical_crossentropy: 0.1594 - 371s/epoch - 14s/step\n",
      "Epoch 35/150\n",
      "27/27 - 369s - loss: 0.1644 - sparse_categorical_crossentropy: 0.1644 - val_loss: 0.1591 - val_sparse_categorical_crossentropy: 0.1591 - 369s/epoch - 14s/step\n",
      "Epoch 36/150\n",
      "27/27 - 373s - loss: 0.1624 - sparse_categorical_crossentropy: 0.1624 - val_loss: 0.1574 - val_sparse_categorical_crossentropy: 0.1574 - 373s/epoch - 14s/step\n",
      "Epoch 37/150\n",
      "27/27 - 383s - loss: 0.1608 - sparse_categorical_crossentropy: 0.1608 - val_loss: 0.1560 - val_sparse_categorical_crossentropy: 0.1560 - 383s/epoch - 14s/step\n",
      "Epoch 38/150\n",
      "27/27 - 376s - loss: 0.1600 - sparse_categorical_crossentropy: 0.1600 - val_loss: 0.1565 - val_sparse_categorical_crossentropy: 0.1565 - 376s/epoch - 14s/step\n",
      "Epoch 39/150\n",
      "27/27 - 372s - loss: 0.1662 - sparse_categorical_crossentropy: 0.1662 - val_loss: 0.1646 - val_sparse_categorical_crossentropy: 0.1646 - 372s/epoch - 14s/step\n",
      "Epoch 40/150\n",
      "27/27 - 365s - loss: 0.1640 - sparse_categorical_crossentropy: 0.1640 - val_loss: 0.1559 - val_sparse_categorical_crossentropy: 0.1559 - 365s/epoch - 14s/step\n",
      "Epoch 41/150\n",
      "27/27 - 367s - loss: 0.1589 - sparse_categorical_crossentropy: 0.1589 - val_loss: 0.1532 - val_sparse_categorical_crossentropy: 0.1532 - 367s/epoch - 14s/step\n",
      "Epoch 42/150\n",
      "27/27 - 372s - loss: 0.1566 - sparse_categorical_crossentropy: 0.1566 - val_loss: 0.1511 - val_sparse_categorical_crossentropy: 0.1511 - 372s/epoch - 14s/step\n",
      "Epoch 43/150\n",
      "27/27 - 371s - loss: 0.1544 - sparse_categorical_crossentropy: 0.1544 - val_loss: 0.1496 - val_sparse_categorical_crossentropy: 0.1496 - 371s/epoch - 14s/step\n",
      "Epoch 44/150\n",
      "27/27 - 365s - loss: 0.1528 - sparse_categorical_crossentropy: 0.1528 - val_loss: 0.1497 - val_sparse_categorical_crossentropy: 0.1497 - 365s/epoch - 14s/step\n",
      "Epoch 45/150\n",
      "27/27 - 366s - loss: 0.1528 - sparse_categorical_crossentropy: 0.1528 - val_loss: 0.1473 - val_sparse_categorical_crossentropy: 0.1473 - 366s/epoch - 14s/step\n",
      "Epoch 46/150\n",
      "27/27 - 372s - loss: 0.1500 - sparse_categorical_crossentropy: 0.1500 - val_loss: 0.1455 - val_sparse_categorical_crossentropy: 0.1455 - 372s/epoch - 14s/step\n",
      "Epoch 47/150\n",
      "27/27 - 369s - loss: 0.1488 - sparse_categorical_crossentropy: 0.1488 - val_loss: 0.1450 - val_sparse_categorical_crossentropy: 0.1450 - 369s/epoch - 14s/step\n",
      "Epoch 48/150\n",
      "27/27 - 364s - loss: 0.1480 - sparse_categorical_crossentropy: 0.1480 - val_loss: 0.1449 - val_sparse_categorical_crossentropy: 0.1449 - 364s/epoch - 13s/step\n",
      "Epoch 49/150\n",
      "27/27 - 370s - loss: 0.1472 - sparse_categorical_crossentropy: 0.1472 - val_loss: 0.1434 - val_sparse_categorical_crossentropy: 0.1434 - 370s/epoch - 14s/step\n",
      "Epoch 50/150\n",
      "27/27 - 372s - loss: 0.1473 - sparse_categorical_crossentropy: 0.1473 - val_loss: 0.1437 - val_sparse_categorical_crossentropy: 0.1437 - 372s/epoch - 14s/step\n",
      "Epoch 51/150\n",
      "27/27 - 367s - loss: 0.1461 - sparse_categorical_crossentropy: 0.1461 - val_loss: 0.1421 - val_sparse_categorical_crossentropy: 0.1421 - 367s/epoch - 14s/step\n",
      "Epoch 52/150\n",
      "27/27 - 366s - loss: 0.1448 - sparse_categorical_crossentropy: 0.1448 - val_loss: 0.1417 - val_sparse_categorical_crossentropy: 0.1417 - 366s/epoch - 14s/step\n",
      "Epoch 53/150\n",
      "27/27 - 366s - loss: 0.1441 - sparse_categorical_crossentropy: 0.1441 - val_loss: 0.1415 - val_sparse_categorical_crossentropy: 0.1415 - 366s/epoch - 14s/step\n",
      "Epoch 54/150\n",
      "27/27 - 368s - loss: 0.1953 - sparse_categorical_crossentropy: 0.1953 - val_loss: 0.1814 - val_sparse_categorical_crossentropy: 0.1814 - 368s/epoch - 14s/step\n",
      "Epoch 55/150\n",
      "27/27 - 376s - loss: 0.1747 - sparse_categorical_crossentropy: 0.1747 - val_loss: 0.1589 - val_sparse_categorical_crossentropy: 0.1589 - 376s/epoch - 14s/step\n",
      "Epoch 56/150\n",
      "27/27 - 371s - loss: 0.1601 - sparse_categorical_crossentropy: 0.1601 - val_loss: 0.1521 - val_sparse_categorical_crossentropy: 0.1521 - 371s/epoch - 14s/step\n"
     ]
    },
    {
     "data": {
      "text/plain": [
       "<keras.src.callbacks.History at 0x2d8873400>"
      ]
     },
     "execution_count": 24,
     "metadata": {},
     "output_type": "execute_result"
    }
   ],
   "source": [
    "model.fit(\n",
    "            train_inputs,\n",
    "            train_targets,\n",
    "            validation_data=(val_inputs, val_targets),\n",
    "            epochs=50,\n",
    "            verbose=2,\n",
    "            shuffle=True,\n",
    "            callbacks=[early_stopping],\n",
    "        )\n"
   ]
  },
  {
   "cell_type": "code",
   "execution_count": 25,
   "id": "f0a2dfb6-a7a2-42c7-afab-21e7bbe1b3ff",
   "metadata": {},
   "outputs": [
    {
     "name": "stdout",
     "output_type": "stream",
     "text": [
      "7/7 [==============================] - 41s 6s/step\n",
      "969.7884521484375\n"
     ]
    }
   ],
   "source": [
    "val = X_val_padded\n",
    "y_val = model.predict(val)\n",
    "sums_val = np.array([-np.log(pred.max(axis=-1)).sum(axis=-1) for pred in y_val])\n",
    "threshold = np.mean(sums_val) + *np.std(sums_val)\n",
    "print(threshold)"
   ]
  },
  {
   "cell_type": "code",
   "execution_count": 27,
   "id": "c107c3b2-af57-4d5f-89bf-9b4f43597c4a",
   "metadata": {},
   "outputs": [
    {
     "name": "stdout",
     "output_type": "stream",
     "text": [
      "11/11 [==============================] - 72s 6s/step\n"
     ]
    }
   ],
   "source": [
    "test = X_test_padded\n",
    "y_pred = model.predict(test)\n",
    "sums = np.array([-np.log(pred.max(axis=-1)).sum(axis=-1) for pred in y_pred])"
   ]
  },
  {
   "cell_type": "code",
   "execution_count": 29,
   "id": "70f794f9-aa2f-4727-a1f7-421bb75b0fb1",
   "metadata": {},
   "outputs": [
    {
     "name": "stdout",
     "output_type": "stream",
     "text": [
      "260\n",
      "345\n",
      "0.7536231884057971\n"
     ]
    }
   ],
   "source": [
    "threshold = np.mean(sums_val) + np.std(sums_val)\n",
    "successes = 0\n",
    "total = len(test)\n",
    "pred = []\n",
    "norms_len = total - len(attack)\n",
    "testY = []\n",
    "for i in range(total):\n",
    "    if sums[i] <= threshold:\n",
    "        pred.append(0)\n",
    "    else:\n",
    "        pred.append(1)\n",
    "    if i < norms_len:\n",
    "        testY.append(0)\n",
    "        if sums[i] <= threshold:\n",
    "            successes += 1\n",
    "    else:\n",
    "        testY.append(1)\n",
    "        if sums[i] > threshold:\n",
    "            successes += 1\n",
    "print(successes)\n",
    "print(total)\n",
    "print(successes / total)"
   ]
  },
  {
   "cell_type": "code",
   "execution_count": 60,
   "id": "42845792-e00d-4a00-9971-6fb04ab13157",
   "metadata": {},
   "outputs": [
    {
     "name": "stdout",
     "output_type": "stream",
     "text": [
      "1240\n"
     ]
    }
   ],
   "source": [
    "print(len(normal))"
   ]
  },
  {
   "cell_type": "code",
   "execution_count": 30,
   "id": "7299bf26-36ea-4f4d-a9d8-91953c8ff7b0",
   "metadata": {},
   "outputs": [
    {
     "name": "stdout",
     "output_type": "stream",
     "text": [
      "Precision:  0.7333333333333333\n",
      "Recall:  0.868421052631579\n",
      "f1:  0.7951807228915663\n"
     ]
    }
   ],
   "source": [
    "precision = precision_score(testY, pred, pos_label=0)\n",
    "recall = recall_score(testY, pred, pos_label=0)\n",
    "f1 = f1_score(testY, pred, pos_label=0)\n",
    "print(\"Precision: \",precision)\n",
    "print(\"Recall: \",recall)\n",
    "print(\"f1: \",f1)"
   ]
  },
  {
   "cell_type": "code",
   "execution_count": null,
   "id": "99bb73e6-c128-499a-bb2d-104ebeedb2b3",
   "metadata": {},
   "outputs": [],
   "source": []
  }
 ],
 "metadata": {
  "kernelspec": {
   "display_name": "Python 3 (ipykernel)",
   "language": "python",
   "name": "python3"
  },
  "language_info": {
   "codemirror_mode": {
    "name": "ipython",
    "version": 3
   },
   "file_extension": ".py",
   "mimetype": "text/x-python",
   "name": "python",
   "nbconvert_exporter": "python",
   "pygments_lexer": "ipython3",
   "version": "3.10.5"
  }
 },
 "nbformat": 4,
 "nbformat_minor": 5
}
